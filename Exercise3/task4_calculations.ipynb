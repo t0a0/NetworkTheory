{
 "cells": [
  {
   "cell_type": "code",
   "execution_count": 15,
   "metadata": {
    "collapsed": false
   },
   "outputs": [
    {
     "data": {
      "text/plain": [
       "array([[0, 1, 0, 1, 0, 1, 0, 0, 0, 0, 0, 0, 0, 0, 0, 0, 0, 0, 0],\n",
       "       [1, 0, 0, 1, 1, 0, 1, 0, 0, 0, 0, 0, 0, 0, 0, 0, 0, 0, 0],\n",
       "       [0, 0, 0, 1, 0, 0, 0, 1, 0, 0, 0, 0, 0, 0, 0, 0, 0, 0, 0],\n",
       "       [1, 1, 1, 0, 1, 1, 1, 0, 0, 0, 0, 0, 0, 0, 0, 0, 0, 0, 0],\n",
       "       [0, 1, 0, 1, 0, 0, 1, 0, 0, 0, 0, 0, 0, 0, 0, 0, 0, 0, 0],\n",
       "       [1, 0, 0, 1, 0, 0, 1, 1, 0, 0, 0, 0, 0, 0, 0, 0, 0, 0, 0],\n",
       "       [0, 1, 0, 1, 1, 1, 0, 1, 0, 0, 0, 0, 0, 0, 0, 0, 0, 0, 0],\n",
       "       [0, 0, 1, 0, 0, 1, 1, 0, 1, 0, 0, 0, 0, 0, 0, 0, 0, 1, 0],\n",
       "       [0, 0, 0, 0, 0, 0, 0, 1, 0, 1, 0, 0, 0, 1, 0, 1, 0, 0, 0],\n",
       "       [0, 0, 0, 0, 0, 0, 0, 0, 1, 0, 1, 1, 1, 1, 1, 1, 0, 0, 0],\n",
       "       [0, 0, 0, 0, 0, 0, 0, 0, 0, 1, 0, 1, 0, 0, 0, 1, 0, 0, 0],\n",
       "       [0, 0, 0, 0, 0, 0, 0, 0, 0, 1, 1, 0, 1, 0, 0, 0, 0, 0, 0],\n",
       "       [0, 0, 0, 0, 0, 0, 0, 0, 0, 1, 0, 1, 0, 0, 0, 0, 1, 0, 0],\n",
       "       [0, 0, 0, 0, 0, 0, 0, 0, 1, 1, 0, 0, 0, 0, 1, 0, 0, 0, 0],\n",
       "       [0, 0, 0, 0, 0, 0, 0, 0, 0, 1, 0, 0, 0, 1, 0, 0, 0, 0, 0],\n",
       "       [0, 0, 0, 0, 0, 0, 0, 0, 1, 1, 1, 0, 0, 0, 0, 0, 0, 0, 0],\n",
       "       [0, 0, 0, 0, 0, 0, 0, 0, 0, 0, 0, 0, 1, 0, 0, 0, 0, 0, 1],\n",
       "       [0, 0, 0, 0, 0, 0, 0, 1, 0, 0, 0, 0, 0, 0, 0, 0, 0, 0, 0],\n",
       "       [0, 0, 0, 0, 0, 0, 0, 0, 0, 0, 0, 0, 0, 0, 0, 0, 1, 0, 0]])"
      ]
     },
     "execution_count": 15,
     "metadata": {},
     "output_type": "execute_result"
    }
   ],
   "source": [
    "import networkx as nx\n",
    "import pandas as pd\n",
    "import numpy as np\n",
    "\n",
    "df = pd.read_csv(\"task4_adjacency.csv\", header = None)\n",
    "mx = df.as_matrix ()\n",
    "mx"
   ]
  },
  {
   "cell_type": "code",
   "execution_count": 24,
   "metadata": {
    "collapsed": false
   },
   "outputs": [
    {
     "data": {
      "text/plain": [
       "{0: 0.16666666666666666,\n",
       " 1: 0.2222222222222222,\n",
       " 2: 0.1111111111111111,\n",
       " 3: 0.3333333333333333,\n",
       " 4: 0.16666666666666666,\n",
       " 5: 0.2222222222222222,\n",
       " 6: 0.2777777777777778,\n",
       " 7: 0.2777777777777778,\n",
       " 8: 0.2222222222222222,\n",
       " 9: 0.38888888888888884,\n",
       " 10: 0.16666666666666666,\n",
       " 11: 0.16666666666666666,\n",
       " 12: 0.16666666666666666,\n",
       " 13: 0.16666666666666666,\n",
       " 14: 0.1111111111111111,\n",
       " 15: 0.16666666666666666,\n",
       " 16: 0.1111111111111111,\n",
       " 17: 0.05555555555555555,\n",
       " 18: 0.05555555555555555}"
      ]
     },
     "execution_count": 24,
     "metadata": {},
     "output_type": "execute_result"
    }
   ],
   "source": [
    "graph = nx.from_numpy_matrix(mx)\n",
    "degree_centrality = nx.degree_centrality(graph)\n",
    "degree_centrality\n"
   ]
  },
  {
   "cell_type": "code",
   "execution_count": 25,
   "metadata": {
    "collapsed": false
   },
   "outputs": [
    {
     "data": {
      "text/plain": [
       "{0: 0.2903225806451613,\n",
       " 1: 0.29508196721311475,\n",
       " 2: 0.34615384615384615,\n",
       " 3: 0.3050847457627119,\n",
       " 4: 0.2903225806451613,\n",
       " 5: 0.36,\n",
       " 6: 0.3673469387755102,\n",
       " 7: 0.45,\n",
       " 8: 0.46153846153846156,\n",
       " 9: 0.42857142857142855,\n",
       " 10: 0.3157894736842105,\n",
       " 11: 0.32727272727272727,\n",
       " 12: 0.3333333333333333,\n",
       " 13: 0.375,\n",
       " 14: 0.3103448275862069,\n",
       " 15: 0.375,\n",
       " 16: 0.2608695652173913,\n",
       " 17: 0.3157894736842105,\n",
       " 18: 0.20930232558139536}"
      ]
     },
     "execution_count": 25,
     "metadata": {},
     "output_type": "execute_result"
    }
   ],
   "source": [
    "closeness_centrality = nx.closeness_centrality(graph)\n",
    "closeness_centrality"
   ]
  },
  {
   "cell_type": "code",
   "execution_count": 26,
   "metadata": {
    "collapsed": false
   },
   "outputs": [
    {
     "data": {
      "text/plain": [
       "{0: 0.0021786492374727667,\n",
       " 1: 0.005446623093681917,\n",
       " 2: 0.026143790849673193,\n",
       " 3: 0.03703703703703704,\n",
       " 4: 0.0,\n",
       " 5: 0.10675381263616555,\n",
       " 6: 0.18845315904139442,\n",
       " 7: 0.5751633986928105,\n",
       " 8: 0.5326797385620915,\n",
       " 9: 0.434640522875817,\n",
       " 10: 0.0032679738562091504,\n",
       " 11: 0.00980392156862745,\n",
       " 12: 0.20915032679738563,\n",
       " 13: 0.032679738562091505,\n",
       " 14: 0.0,\n",
       " 15: 0.032679738562091505,\n",
       " 16: 0.11111111111111112,\n",
       " 17: 0.0,\n",
       " 18: 0.0}"
      ]
     },
     "execution_count": 26,
     "metadata": {},
     "output_type": "execute_result"
    }
   ],
   "source": [
    "betweenness_centrality = nx.betweenness_centrality(graph)\n",
    "betweenness_centrality"
   ]
  },
  {
   "cell_type": "code",
   "execution_count": null,
   "metadata": {
    "collapsed": true
   },
   "outputs": [],
   "source": []
  }
 ],
 "metadata": {
  "anaconda-cloud": {},
  "kernelspec": {
   "display_name": "Python [conda root]",
   "language": "python",
   "name": "conda-root-py"
  },
  "language_info": {
   "codemirror_mode": {
    "name": "ipython",
    "version": 3
   },
   "file_extension": ".py",
   "mimetype": "text/x-python",
   "name": "python",
   "nbconvert_exporter": "python",
   "pygments_lexer": "ipython3",
   "version": "3.5.2"
  }
 },
 "nbformat": 4,
 "nbformat_minor": 1
}
